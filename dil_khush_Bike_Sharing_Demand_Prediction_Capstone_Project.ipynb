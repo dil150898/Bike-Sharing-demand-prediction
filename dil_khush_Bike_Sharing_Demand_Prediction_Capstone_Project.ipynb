{
  "nbformat": 4,
  "nbformat_minor": 0,
  "metadata": {
    "kernelspec": {
      "display_name": "Python 3",
      "language": "python",
      "name": "python3"
    },
    "language_info": {
      "codemirror_mode": {
        "name": "ipython",
        "version": 3
      },
      "file_extension": ".py",
      "mimetype": "text/x-python",
      "name": "python",
      "nbconvert_exporter": "python",
      "pygments_lexer": "ipython3",
      "version": "3.6.6"
    },
    "colab": {
      "provenance": [],
      "include_colab_link": true
    }
  },
  "cells": [
    {
      "cell_type": "markdown",
      "metadata": {
        "id": "view-in-github",
        "colab_type": "text"
      },
      "source": [
        "<a href=\"https://colab.research.google.com/github/dil150898/Bike-Sharing-demand-prediction/blob/main/dil_khush_Bike_Sharing_Demand_Prediction_Capstone_Project.ipynb\" target=\"_parent\"><img src=\"https://colab.research.google.com/assets/colab-badge.svg\" alt=\"Open In Colab\"/></a>"
      ]
    },
    {
      "cell_type": "markdown",
      "metadata": {
        "id": "tOGC-qoyhJeX"
      },
      "source": [
        "# <b><u> Project Title : Seoul Bike Sharing Demand Prediction </u></b>"
      ]
    },
    {
      "cell_type": "markdown",
      "source": [
        "##### **Project Type**    - Regression\n",
        "##### **Contribution**    - Team\n",
        "##### **Team Member 1 -**Vaibhav Kumar Gupta\n",
        "##### **Team Member 2 -**Bhavik Verma\n",
        "##### **Team Member 3 -**Priyanka Pal\n",
        "##### **Team Member 4 -**Dil Khush Sharma\n",
        "##### **Team Member 5 -**Shayan Somanna"
      ],
      "metadata": {
        "id": "RwHXe_eA5IAe"
      }
    },
    {
      "cell_type": "markdown",
      "source": [
        "# **Project Summary -**"
      ],
      "metadata": {
        "id": "XWVAsCUs5P01"
      }
    },
    {
      "cell_type": "markdown",
      "source": [
        "Currently many urban cities have introduced rental bikes to improve mobility comfort (e.g. Rapido and Uber Moto in India). It is critical to make the rental bike available and accessible to the public at the appropriate time, as this reduces waiting time. Eventually, providing a steady supply of rental bikes to the city becomes a major concern. The critical part is predicting the number of bikes needed at each hour to ensure a steady supply of rental bikes.\n",
        "\n",
        "We performed exploratory data analysis on the provided dataset and discovered numerous findings that will be beneficial to rental bike companies. There are several factors driving the demand for rental bikes. We've selected the most useful features.\n",
        "\n",
        "We tested several machine learning models to correctly predict bike demand, which will save the company's resources and generate more and more profits.\n",
        "\n",
        "The goal is to design different Machine Learning models and come up with the model which gives the best prediction of the rented bike count required to be supplied at each hour. Before designing any ML model, we require to clean the data and draw significant insights from the data. To begin with, we view the dataset including its description, various columns, number of null values, different categorical variables, unique value count, the shape of the dataset and different statistical parameters. We begin by removing the null values if any. Then we plot the distributions of each variable to see how the data is distributed. We get an idea about the skewness of the data. Ideally, we want our data to have a normal distribution. If there is skewness in the data we go for feature transformation. Visualizing different kinds of transformation on the skewed variables helps you to determine the best transformation for your features. We can check the numerical value of skewness of the variables using the .skew() method. We also plot a box plot of the features to check the outliers in the data. Outliers play a significant role in data analysis as they affect the statistical parameters. Then we plot the correlation heatmap to check for collinear features. Since collinearity is not desired in the data, we linearly combine the collinear features or drop them. In our project, Year and Dew point temperatures have the highest multi-correlation hence they’re dropped. Moving ahead, we analyze the categorical variables and perform one hot encoding for conversion. The original categorical columns are dropped and we get our final clean dataset. A feature importance graph is plotted to show which features contribute the most to our model. Then we perform the splitting of the data into train-test sets and perform feature scaling. Then we apply LR, Decision Tree, Random forest regression, XG Boost regression, Gradient Boosting and AdaBoost models to get the best model for our business problem. We calculate the evaluation metrics R2 score, adjusted R2 and RMSE for each model. Then a model comparison chart is plotted to compare the metrics.XGBoost with Hypertunning gives the best results of all the models for the given business problem with R2 score=0.927 and adjusted R2 of 0.9267. Also, it has the lowest RMSE of all the models which equals 9.5 on training data and 174.12 on test data."
      ],
      "metadata": {
        "id": "NRRsvNgZ5Wt3"
      }
    },
    {
      "cell_type": "markdown",
      "source": [
        "# **GitHub Link -**"
      ],
      "metadata": {
        "id": "Vi0HzXye5Xbt"
      }
    },
    {
      "cell_type": "markdown",
      "source": [
        "https://github.com/dil150898/Bike-Sharing-demand-prediction"
      ],
      "metadata": {
        "id": "VIuNBPLc5bWW"
      }
    },
    {
      "cell_type": "markdown",
      "source": [
        "# **Problem Statement**"
      ],
      "metadata": {
        "id": "WRcUTZmw5hEG"
      }
    },
    {
      "cell_type": "markdown",
      "source": [
        "**Currently Rental bikes are introduced in many urban cities for the enhancement of mobility comfort. It is important to make the rental bike available and accessible to the public at the right time as it lessens the waiting time. Eventually, providing the city with a stable supply of rental bikes becomes a major concern. The crucial part is the prediction of bike count required at each hour for the stable supply of rental bikes.**"
      ],
      "metadata": {
        "id": "E6tMmg9B5lYV"
      }
    },
    {
      "cell_type": "markdown",
      "source": [
        "# **General Guidelines** : -  "
      ],
      "metadata": {
        "id": "2pbT1_p95l-d"
      }
    },
    {
      "cell_type": "markdown",
      "source": [
        "1.   Well-structured, formatted, and commented code is required. \n",
        "2.   Exception Handling, Production Grade Code & Deployment Ready Code will be a plus. Those students will be awarded some additional credits. \n",
        "     \n",
        "     The additional credits will have advantages over other students during Star Student selection.\n",
        "       \n",
        "             [ Note: - Deployment Ready Code is defined as, the whole .ipynb notebook should be executable in one go\n",
        "                       without a single error logged. ]\n",
        "\n",
        "3.   Each and every logic should have proper comments.\n",
        "4. You may add as many number of charts you want. Make Sure for each and every chart the following format should be answered.\n",
        "        \n",
        "\n",
        "```\n",
        "# Chart visualization code\n",
        "```\n",
        "            \n",
        "\n",
        "*   Why did you pick the specific chart?\n",
        "*   What is/are the insight(s) found from the chart?\n",
        "* Will the gained insights help creating a positive business impact? \n",
        "Are there any insights that lead to negative growth? Justify with specific reason.\n",
        "\n",
        "5. You have to create at least 15 logical & meaningful charts having important insights.\n",
        "\n",
        "\n",
        "[ Hints : - Do the Vizualization in  a structured way while following \"UBM\" Rule. \n",
        "\n",
        "U - Univariate Analysis,\n",
        "\n",
        "B - Bivariate Analysis (Numerical - Categorical, Numerical - Numerical, Categorical - Categorical)\n",
        "\n",
        "M - Multivariate Analysis\n",
        " ]\n",
        "\n",
        "\n",
        "\n",
        "\n",
        "\n",
        "6. You may add more ml algorithms for model creation. Make sure for each and every algorithm, the following format should be answered.\n",
        "\n",
        "\n",
        "*   Explain the ML Model used and it's performance using Evaluation metric Score Chart.\n",
        "\n",
        "\n",
        "*   Cross- Validation & Hyperparameter Tuning\n",
        "\n",
        "*   Have you seen any improvement? Note down the improvement with updates Evaluation metric Score Chart.\n",
        "\n",
        "*   Explain each evaluation metric's indication towards business and the business impact pf the ML model used.\n",
        "\n",
        "\n",
        "\n",
        "\n",
        "\n",
        "\n",
        "\n",
        "\n",
        "\n",
        "\n",
        "\n",
        "\n",
        "\n",
        "\n",
        "\n",
        "\n",
        "\n",
        "\n"
      ],
      "metadata": {
        "id": "eeBHOq8z5mEN"
      }
    },
    {
      "cell_type": "markdown",
      "source": [
        "# ***Let's Begin !***"
      ],
      "metadata": {
        "id": "s686t25a5mHe"
      }
    },
    {
      "cell_type": "markdown",
      "source": [
        "## ***1. Know Your Data***"
      ],
      "metadata": {
        "id": "n4S4ofBt5mK3"
      }
    },
    {
      "cell_type": "markdown",
      "source": [
        "### Import Libraries"
      ],
      "metadata": {
        "id": "T0ILEn_E5mNv"
      }
    },
    {
      "cell_type": "code",
      "source": [
        "# Import Google Drive\n",
        "from google.colab import drive\n",
        "drive.mount('/content/drive')"
      ],
      "metadata": {
        "colab": {
          "base_uri": "https://localhost:8080/"
        },
        "id": "HzpOj_S-6ZKh",
        "outputId": "2fdcf0af-006b-4721-fc31-e17dd5379576"
      },
      "execution_count": 1,
      "outputs": [
        {
          "output_type": "stream",
          "name": "stdout",
          "text": [
            "Mounted at /content/drive\n"
          ]
        }
      ]
    },
    {
      "cell_type": "code",
      "source": [
        "!pip install bayesian-optimization"
      ],
      "metadata": {
        "colab": {
          "base_uri": "https://localhost:8080/"
        },
        "id": "HIkMr7FY6iLp",
        "outputId": "1bf0b960-c76f-4f7c-e8bc-d368d7427ad8"
      },
      "execution_count": 2,
      "outputs": [
        {
          "output_type": "stream",
          "name": "stdout",
          "text": [
            "Looking in indexes: https://pypi.org/simple, https://us-python.pkg.dev/colab-wheels/public/simple/\n",
            "Collecting bayesian-optimization\n",
            "  Downloading bayesian_optimization-1.4.2-py3-none-any.whl (17 kB)\n",
            "Collecting colorama>=0.4.6\n",
            "  Downloading colorama-0.4.6-py2.py3-none-any.whl (25 kB)\n",
            "Requirement already satisfied: scikit-learn>=0.18.0 in /usr/local/lib/python3.8/dist-packages (from bayesian-optimization) (1.0.2)\n",
            "Requirement already satisfied: numpy>=1.9.0 in /usr/local/lib/python3.8/dist-packages (from bayesian-optimization) (1.21.6)\n",
            "Requirement already satisfied: scipy>=1.0.0 in /usr/local/lib/python3.8/dist-packages (from bayesian-optimization) (1.7.3)\n",
            "Requirement already satisfied: threadpoolctl>=2.0.0 in /usr/local/lib/python3.8/dist-packages (from scikit-learn>=0.18.0->bayesian-optimization) (3.1.0)\n",
            "Requirement already satisfied: joblib>=0.11 in /usr/local/lib/python3.8/dist-packages (from scikit-learn>=0.18.0->bayesian-optimization) (1.2.0)\n",
            "Installing collected packages: colorama, bayesian-optimization\n",
            "Successfully installed bayesian-optimization-1.4.2 colorama-0.4.6\n"
          ]
        }
      ]
    },
    {
      "cell_type": "code",
      "source": [
        "!pip install scikit-optimize"
      ],
      "metadata": {
        "colab": {
          "base_uri": "https://localhost:8080/"
        },
        "id": "gD4o-lPr6nNH",
        "outputId": "b5a78de3-7502-40c1-f93e-18ed60babd3e"
      },
      "execution_count": 3,
      "outputs": [
        {
          "output_type": "stream",
          "name": "stdout",
          "text": [
            "Looking in indexes: https://pypi.org/simple, https://us-python.pkg.dev/colab-wheels/public/simple/\n",
            "Collecting scikit-optimize\n",
            "  Downloading scikit_optimize-0.9.0-py2.py3-none-any.whl (100 kB)\n",
            "\u001b[K     |████████████████████████████████| 100 kB 3.9 MB/s \n",
            "\u001b[?25hRequirement already satisfied: joblib>=0.11 in /usr/local/lib/python3.8/dist-packages (from scikit-optimize) (1.2.0)\n",
            "Requirement already satisfied: numpy>=1.13.3 in /usr/local/lib/python3.8/dist-packages (from scikit-optimize) (1.21.6)\n",
            "Requirement already satisfied: scipy>=0.19.1 in /usr/local/lib/python3.8/dist-packages (from scikit-optimize) (1.7.3)\n",
            "Requirement already satisfied: scikit-learn>=0.20.0 in /usr/local/lib/python3.8/dist-packages (from scikit-optimize) (1.0.2)\n",
            "Collecting pyaml>=16.9\n",
            "  Downloading pyaml-21.10.1-py2.py3-none-any.whl (24 kB)\n",
            "Requirement already satisfied: PyYAML in /usr/local/lib/python3.8/dist-packages (from pyaml>=16.9->scikit-optimize) (6.0)\n",
            "Requirement already satisfied: threadpoolctl>=2.0.0 in /usr/local/lib/python3.8/dist-packages (from scikit-learn>=0.20.0->scikit-optimize) (3.1.0)\n",
            "Installing collected packages: pyaml, scikit-optimize\n",
            "Successfully installed pyaml-21.10.1 scikit-optimize-0.9.0\n"
          ]
        }
      ]
    },
    {
      "cell_type": "code",
      "source": [
        "# Import Libraries\n",
        "import pandas as pd\n",
        "import seaborn as sns\n",
        "import matplotlib.pyplot as plt\n",
        "import numpy as np\n",
        "import missingno as msno\n",
        "sns.set()\n",
        "\n",
        "from skopt import BayesSearchCV\n",
        "import warnings\n",
        "warnings.filterwarnings('ignore')\n",
        "\n",
        "from sklearn.metrics import mean_squared_error\n",
        "from sklearn.model_selection import train_test_split\n",
        "from sklearn.tree import DecisionTreeRegressor\n",
        "from sklearn.model_selection import GridSearchCV\n",
        "from sklearn.model_selection import train_test_split\n",
        "from sklearn.ensemble import RandomForestRegressor\n",
        "from sklearn.ensemble import GradientBoostingRegressor\n",
        "\n",
        "from time import time\n",
        "from sklearn.metrics import r2_score\n",
        "import xgboost as xgb\n",
        "\n",
        "from sklearn.model_selection import cross_val_score"
      ],
      "metadata": {
        "id": "Jyjslomj6pH1"
      },
      "execution_count": 4,
      "outputs": []
    },
    {
      "cell_type": "markdown",
      "source": [
        "### Dataset Loading"
      ],
      "metadata": {
        "id": "cwuzMS1H5mU1"
      }
    },
    {
      "cell_type": "code",
      "source": [
        "# Load Dataset Vaibhav\n",
        "path='/content/drive/MyDrive/Almabetter/Capstone Project/Supervised ML - Regression /Bike Sharing Demand Prediction /Bike Sharing Demand Prediction/Dil khush Sharma/Data & Resource/SeoulBikeData.csv'\n",
        "df=pd.read_csv(path, encoding = 'unicode_escape')"
      ],
      "metadata": {
        "id": "QvlG3JEQ6tMf"
      },
      "execution_count": 5,
      "outputs": []
    },
    {
      "cell_type": "markdown",
      "source": [
        "### Dataset First View"
      ],
      "metadata": {
        "id": "NiYykBWH5mbv"
      }
    },
    {
      "cell_type": "code",
      "source": [
        "# Dataset First Look\n",
        "df.head(4)"
      ],
      "metadata": {
        "colab": {
          "base_uri": "https://localhost:8080/",
          "height": 175
        },
        "id": "3XG6EwSK7F_n",
        "outputId": "4a57a7cf-fec4-43a7-c3e4-d32c75832550"
      },
      "execution_count": 6,
      "outputs": [
        {
          "output_type": "execute_result",
          "data": {
            "text/plain": [
              "         Date  Rented Bike Count  Hour  Temperature(°C)  Humidity(%)  \\\n",
              "0  01/12/2017                254     0             -5.2           37   \n",
              "1  01/12/2017                204     1             -5.5           38   \n",
              "2  01/12/2017                173     2             -6.0           39   \n",
              "3  01/12/2017                107     3             -6.2           40   \n",
              "\n",
              "   Wind speed (m/s)  Visibility (10m)  Dew point temperature(°C)  \\\n",
              "0               2.2              2000                      -17.6   \n",
              "1               0.8              2000                      -17.6   \n",
              "2               1.0              2000                      -17.7   \n",
              "3               0.9              2000                      -17.6   \n",
              "\n",
              "   Solar Radiation (MJ/m2)  Rainfall(mm)  Snowfall (cm) Seasons     Holiday  \\\n",
              "0                      0.0           0.0            0.0  Winter  No Holiday   \n",
              "1                      0.0           0.0            0.0  Winter  No Holiday   \n",
              "2                      0.0           0.0            0.0  Winter  No Holiday   \n",
              "3                      0.0           0.0            0.0  Winter  No Holiday   \n",
              "\n",
              "  Functioning Day  \n",
              "0             Yes  \n",
              "1             Yes  \n",
              "2             Yes  \n",
              "3             Yes  "
            ],
            "text/html": [
              "\n",
              "  <div id=\"df-5b1371ee-0028-46aa-90cb-48fcddb8622d\">\n",
              "    <div class=\"colab-df-container\">\n",
              "      <div>\n",
              "<style scoped>\n",
              "    .dataframe tbody tr th:only-of-type {\n",
              "        vertical-align: middle;\n",
              "    }\n",
              "\n",
              "    .dataframe tbody tr th {\n",
              "        vertical-align: top;\n",
              "    }\n",
              "\n",
              "    .dataframe thead th {\n",
              "        text-align: right;\n",
              "    }\n",
              "</style>\n",
              "<table border=\"1\" class=\"dataframe\">\n",
              "  <thead>\n",
              "    <tr style=\"text-align: right;\">\n",
              "      <th></th>\n",
              "      <th>Date</th>\n",
              "      <th>Rented Bike Count</th>\n",
              "      <th>Hour</th>\n",
              "      <th>Temperature(°C)</th>\n",
              "      <th>Humidity(%)</th>\n",
              "      <th>Wind speed (m/s)</th>\n",
              "      <th>Visibility (10m)</th>\n",
              "      <th>Dew point temperature(°C)</th>\n",
              "      <th>Solar Radiation (MJ/m2)</th>\n",
              "      <th>Rainfall(mm)</th>\n",
              "      <th>Snowfall (cm)</th>\n",
              "      <th>Seasons</th>\n",
              "      <th>Holiday</th>\n",
              "      <th>Functioning Day</th>\n",
              "    </tr>\n",
              "  </thead>\n",
              "  <tbody>\n",
              "    <tr>\n",
              "      <th>0</th>\n",
              "      <td>01/12/2017</td>\n",
              "      <td>254</td>\n",
              "      <td>0</td>\n",
              "      <td>-5.2</td>\n",
              "      <td>37</td>\n",
              "      <td>2.2</td>\n",
              "      <td>2000</td>\n",
              "      <td>-17.6</td>\n",
              "      <td>0.0</td>\n",
              "      <td>0.0</td>\n",
              "      <td>0.0</td>\n",
              "      <td>Winter</td>\n",
              "      <td>No Holiday</td>\n",
              "      <td>Yes</td>\n",
              "    </tr>\n",
              "    <tr>\n",
              "      <th>1</th>\n",
              "      <td>01/12/2017</td>\n",
              "      <td>204</td>\n",
              "      <td>1</td>\n",
              "      <td>-5.5</td>\n",
              "      <td>38</td>\n",
              "      <td>0.8</td>\n",
              "      <td>2000</td>\n",
              "      <td>-17.6</td>\n",
              "      <td>0.0</td>\n",
              "      <td>0.0</td>\n",
              "      <td>0.0</td>\n",
              "      <td>Winter</td>\n",
              "      <td>No Holiday</td>\n",
              "      <td>Yes</td>\n",
              "    </tr>\n",
              "    <tr>\n",
              "      <th>2</th>\n",
              "      <td>01/12/2017</td>\n",
              "      <td>173</td>\n",
              "      <td>2</td>\n",
              "      <td>-6.0</td>\n",
              "      <td>39</td>\n",
              "      <td>1.0</td>\n",
              "      <td>2000</td>\n",
              "      <td>-17.7</td>\n",
              "      <td>0.0</td>\n",
              "      <td>0.0</td>\n",
              "      <td>0.0</td>\n",
              "      <td>Winter</td>\n",
              "      <td>No Holiday</td>\n",
              "      <td>Yes</td>\n",
              "    </tr>\n",
              "    <tr>\n",
              "      <th>3</th>\n",
              "      <td>01/12/2017</td>\n",
              "      <td>107</td>\n",
              "      <td>3</td>\n",
              "      <td>-6.2</td>\n",
              "      <td>40</td>\n",
              "      <td>0.9</td>\n",
              "      <td>2000</td>\n",
              "      <td>-17.6</td>\n",
              "      <td>0.0</td>\n",
              "      <td>0.0</td>\n",
              "      <td>0.0</td>\n",
              "      <td>Winter</td>\n",
              "      <td>No Holiday</td>\n",
              "      <td>Yes</td>\n",
              "    </tr>\n",
              "  </tbody>\n",
              "</table>\n",
              "</div>\n",
              "      <button class=\"colab-df-convert\" onclick=\"convertToInteractive('df-5b1371ee-0028-46aa-90cb-48fcddb8622d')\"\n",
              "              title=\"Convert this dataframe to an interactive table.\"\n",
              "              style=\"display:none;\">\n",
              "        \n",
              "  <svg xmlns=\"http://www.w3.org/2000/svg\" height=\"24px\"viewBox=\"0 0 24 24\"\n",
              "       width=\"24px\">\n",
              "    <path d=\"M0 0h24v24H0V0z\" fill=\"none\"/>\n",
              "    <path d=\"M18.56 5.44l.94 2.06.94-2.06 2.06-.94-2.06-.94-.94-2.06-.94 2.06-2.06.94zm-11 1L8.5 8.5l.94-2.06 2.06-.94-2.06-.94L8.5 2.5l-.94 2.06-2.06.94zm10 10l.94 2.06.94-2.06 2.06-.94-2.06-.94-.94-2.06-.94 2.06-2.06.94z\"/><path d=\"M17.41 7.96l-1.37-1.37c-.4-.4-.92-.59-1.43-.59-.52 0-1.04.2-1.43.59L10.3 9.45l-7.72 7.72c-.78.78-.78 2.05 0 2.83L4 21.41c.39.39.9.59 1.41.59.51 0 1.02-.2 1.41-.59l7.78-7.78 2.81-2.81c.8-.78.8-2.07 0-2.86zM5.41 20L4 18.59l7.72-7.72 1.47 1.35L5.41 20z\"/>\n",
              "  </svg>\n",
              "      </button>\n",
              "      \n",
              "  <style>\n",
              "    .colab-df-container {\n",
              "      display:flex;\n",
              "      flex-wrap:wrap;\n",
              "      gap: 12px;\n",
              "    }\n",
              "\n",
              "    .colab-df-convert {\n",
              "      background-color: #E8F0FE;\n",
              "      border: none;\n",
              "      border-radius: 50%;\n",
              "      cursor: pointer;\n",
              "      display: none;\n",
              "      fill: #1967D2;\n",
              "      height: 32px;\n",
              "      padding: 0 0 0 0;\n",
              "      width: 32px;\n",
              "    }\n",
              "\n",
              "    .colab-df-convert:hover {\n",
              "      background-color: #E2EBFA;\n",
              "      box-shadow: 0px 1px 2px rgba(60, 64, 67, 0.3), 0px 1px 3px 1px rgba(60, 64, 67, 0.15);\n",
              "      fill: #174EA6;\n",
              "    }\n",
              "\n",
              "    [theme=dark] .colab-df-convert {\n",
              "      background-color: #3B4455;\n",
              "      fill: #D2E3FC;\n",
              "    }\n",
              "\n",
              "    [theme=dark] .colab-df-convert:hover {\n",
              "      background-color: #434B5C;\n",
              "      box-shadow: 0px 1px 3px 1px rgba(0, 0, 0, 0.15);\n",
              "      filter: drop-shadow(0px 1px 2px rgba(0, 0, 0, 0.3));\n",
              "      fill: #FFFFFF;\n",
              "    }\n",
              "  </style>\n",
              "\n",
              "      <script>\n",
              "        const buttonEl =\n",
              "          document.querySelector('#df-5b1371ee-0028-46aa-90cb-48fcddb8622d button.colab-df-convert');\n",
              "        buttonEl.style.display =\n",
              "          google.colab.kernel.accessAllowed ? 'block' : 'none';\n",
              "\n",
              "        async function convertToInteractive(key) {\n",
              "          const element = document.querySelector('#df-5b1371ee-0028-46aa-90cb-48fcddb8622d');\n",
              "          const dataTable =\n",
              "            await google.colab.kernel.invokeFunction('convertToInteractive',\n",
              "                                                     [key], {});\n",
              "          if (!dataTable) return;\n",
              "\n",
              "          const docLinkHtml = 'Like what you see? Visit the ' +\n",
              "            '<a target=\"_blank\" href=https://colab.research.google.com/notebooks/data_table.ipynb>data table notebook</a>'\n",
              "            + ' to learn more about interactive tables.';\n",
              "          element.innerHTML = '';\n",
              "          dataTable['output_type'] = 'display_data';\n",
              "          await google.colab.output.renderOutput(dataTable, element);\n",
              "          const docLink = document.createElement('div');\n",
              "          docLink.innerHTML = docLinkHtml;\n",
              "          element.appendChild(docLink);\n",
              "        }\n",
              "      </script>\n",
              "    </div>\n",
              "  </div>\n",
              "  "
            ]
          },
          "metadata": {},
          "execution_count": 6
        }
      ]
    },
    {
      "cell_type": "markdown",
      "source": [
        "### Dataset Rows & Columns count"
      ],
      "metadata": {
        "id": "uj5sByRG5mfA"
      }
    },
    {
      "cell_type": "code",
      "source": [
        "# Dataset Rows & Columns count\n",
        "df.shape"
      ],
      "metadata": {
        "colab": {
          "base_uri": "https://localhost:8080/"
        },
        "id": "k1hteihV7JR2",
        "outputId": "f01a2342-ec19-4190-db98-942d53c76ada"
      },
      "execution_count": 7,
      "outputs": [
        {
          "output_type": "execute_result",
          "data": {
            "text/plain": [
              "(8760, 14)"
            ]
          },
          "metadata": {},
          "execution_count": 7
        }
      ]
    },
    {
      "cell_type": "markdown",
      "source": [
        "### Dataset Information"
      ],
      "metadata": {
        "id": "AMly4rfj5miQ"
      }
    },
    {
      "cell_type": "code",
      "source": [
        "# Dataset Info\n",
        "df.info()"
      ],
      "metadata": {
        "colab": {
          "base_uri": "https://localhost:8080/"
        },
        "id": "BTWhFLgn7mPw",
        "outputId": "0d118bf8-c509-4a08-f476-6f612f9f9fcc"
      },
      "execution_count": 8,
      "outputs": [
        {
          "output_type": "stream",
          "name": "stdout",
          "text": [
            "<class 'pandas.core.frame.DataFrame'>\n",
            "RangeIndex: 8760 entries, 0 to 8759\n",
            "Data columns (total 14 columns):\n",
            " #   Column                     Non-Null Count  Dtype  \n",
            "---  ------                     --------------  -----  \n",
            " 0   Date                       8760 non-null   object \n",
            " 1   Rented Bike Count          8760 non-null   int64  \n",
            " 2   Hour                       8760 non-null   int64  \n",
            " 3   Temperature(°C)            8760 non-null   float64\n",
            " 4   Humidity(%)                8760 non-null   int64  \n",
            " 5   Wind speed (m/s)           8760 non-null   float64\n",
            " 6   Visibility (10m)           8760 non-null   int64  \n",
            " 7   Dew point temperature(°C)  8760 non-null   float64\n",
            " 8   Solar Radiation (MJ/m2)    8760 non-null   float64\n",
            " 9   Rainfall(mm)               8760 non-null   float64\n",
            " 10  Snowfall (cm)              8760 non-null   float64\n",
            " 11  Seasons                    8760 non-null   object \n",
            " 12  Holiday                    8760 non-null   object \n",
            " 13  Functioning Day            8760 non-null   object \n",
            "dtypes: float64(6), int64(4), object(4)\n",
            "memory usage: 958.2+ KB\n"
          ]
        }
      ]
    },
    {
      "cell_type": "markdown",
      "source": [
        "#### Duplicate Values"
      ],
      "metadata": {
        "id": "HXBCJLPB7t3-"
      }
    },
    {
      "cell_type": "code",
      "source": [
        "# Dataset Duplicate Value Count\n",
        "print(f'We have {len(df[df.duplicated()])} duplicate values.')"
      ],
      "metadata": {
        "colab": {
          "base_uri": "https://localhost:8080/"
        },
        "id": "FU9loo9v7pph",
        "outputId": "06509516-b5ef-4bc5-ce54-d25b253c7c03"
      },
      "execution_count": 10,
      "outputs": [
        {
          "output_type": "stream",
          "name": "stdout",
          "text": [
            "We have 0 duplicate values.\n"
          ]
        }
      ]
    },
    {
      "cell_type": "markdown",
      "source": [
        "#### Missing Values/Null Values"
      ],
      "metadata": {
        "id": "z6zepKHT5mk9"
      }
    },
    {
      "cell_type": "code",
      "source": [
        "# Missing Values/Null Values Count\n",
        "print(f'We have {df.isna().sum().sum()} null values.')"
      ],
      "metadata": {
        "colab": {
          "base_uri": "https://localhost:8080/"
        },
        "id": "bihbuaBb8EMP",
        "outputId": "974e6a2a-cee5-4253-b77b-15e4cbabbe8e"
      },
      "execution_count": 11,
      "outputs": [
        {
          "output_type": "stream",
          "name": "stdout",
          "text": [
            "We have 0 null values.\n"
          ]
        }
      ]
    },
    {
      "cell_type": "code",
      "source": [
        "# Visualizing the missing values\n",
        "msno.bar(df)"
      ],
      "metadata": {
        "colab": {
          "base_uri": "https://localhost:8080/",
          "height": 816
        },
        "id": "Jj9NS8Pb8LwV",
        "outputId": "fd3c732e-116a-4f98-b18d-e9299c7e8333"
      },
      "execution_count": 12,
      "outputs": [
        {
          "output_type": "execute_result",
          "data": {
            "text/plain": [
              "<matplotlib.axes._subplots.AxesSubplot at 0x7ff12128cd30>"
            ]
          },
          "metadata": {},
          "execution_count": 12
        },
        {
          "output_type": "display_data",
          "data": {
            "text/plain": [
              "<Figure size 1800x720 with 3 Axes>"
            ],
            "image/png": "[encoded data removed]"
          },
          "metadata": {}
        }
      ]
    },
    {
      "cell_type": "markdown",
      "source": [
        "### What did you know about your dataset?"
      ],
      "metadata": {
        "id": "_e9bi87b5moB"
      }
    },
    {
      "cell_type": "markdown",
      "source": [
        "*  Our Dataset contains 8760 instances and 14 columns.\n",
        "*  This dataset has no null values as well as no duplicate values."
      ],
      "metadata": {
        "id": "GiHsFeYA5mq0"
      }
    },
    {
      "cell_type": "markdown",
      "source": [
        "## ***2. Understanding Your Variables***"
      ],
      "metadata": {
        "id": "ZC3xDgHe5mto"
      }
    },
    {
      "cell_type": "code",
      "source": [
        "# Dataset Columns\n",
        "# return the column labels\n",
        "result = df.columns\n",
        "\n",
        "# Print the result\n",
        "print(result)"
      ],
      "metadata": {
        "colab": {
          "base_uri": "https://localhost:8080/"
        },
        "id": "y2oPKDf85QFG",
        "outputId": "6dadfc18-077a-45e3-a63a-c53aec88c4ca"
      },
      "execution_count": 13,
      "outputs": [
        {
          "output_type": "stream",
          "name": "stdout",
          "text": [
            "Index(['Date', 'Rented Bike Count', 'Hour', 'Temperature(°C)', 'Humidity(%)',\n",
            "       'Wind speed (m/s)', 'Visibility (10m)', 'Dew point temperature(°C)',\n",
            "       'Solar Radiation (MJ/m2)', 'Rainfall(mm)', 'Snowfall (cm)', 'Seasons',\n",
            "       'Holiday', 'Functioning Day'],\n",
            "      dtype='object')\n"
          ]
        }
      ]
    },
    {
      "cell_type": "code",
      "source": [
        "# Dataset Describe\n",
        "df.describe()"
      ],
      "metadata": {
        "colab": {
          "base_uri": "https://localhost:8080/",
          "height": 300
        },
        "id": "eMUjKIoB81E1",
        "outputId": "1e8efd04-bea7-4aab-95a8-4c580b607e0c"
      },
      "execution_count": 14,
      "outputs": [
        {
          "output_type": "execute_result",
          "data": {
            "text/plain": [
              "       Rented Bike Count         Hour  Temperature(°C)  Humidity(%)  \\\n",
              "count        8760.000000  8760.000000      8760.000000  8760.000000   \n",
              "mean          704.602055    11.500000        12.882922    58.226256   \n",
              "std           644.997468     6.922582        11.944825    20.362413   \n",
              "min             0.000000     0.000000       -17.800000     0.000000   \n",
              "25%           191.000000     5.750000         3.500000    42.000000   \n",
              "50%           504.500000    11.500000        13.700000    57.000000   \n",
              "75%          1065.250000    17.250000        22.500000    74.000000   \n",
              "max          3556.000000    23.000000        39.400000    98.000000   \n",
              "\n",
              "       Wind speed (m/s)  Visibility (10m)  Dew point temperature(°C)  \\\n",
              "count       8760.000000       8760.000000                8760.000000   \n",
              "mean           1.724909       1436.825799                   4.073813   \n",
              "std            1.036300        608.298712                  13.060369   \n",
              "min            0.000000         27.000000                 -30.600000   \n",
              "25%            0.900000        940.000000                  -4.700000   \n",
              "50%            1.500000       1698.000000                   5.100000   \n",
              "75%            2.300000       2000.000000                  14.800000   \n",
              "max            7.400000       2000.000000                  27.200000   \n",
              "\n",
              "       Solar Radiation (MJ/m2)  Rainfall(mm)  Snowfall (cm)  \n",
              "count              8760.000000   8760.000000    8760.000000  \n",
              "mean                  0.569111      0.148687       0.075068  \n",
              "std                   0.868746      1.128193       0.436746  \n",
              "min                   0.000000      0.000000       0.000000  \n",
              "25%                   0.000000      0.000000       0.000000  \n",
              "50%                   0.010000      0.000000       0.000000  \n",
              "75%                   0.930000      0.000000       0.000000  \n",
              "max                   3.520000     35.000000       8.800000  "
            ],
            "text/html": [
              "\n",
              "  <div id=\"df-6d89a3e9-ea56-44a7-a812-a43eda90eada\">\n",
              "    <div class=\"colab-df-container\">\n",
              "      <div>\n",
              "<style scoped>\n",
              "    .dataframe tbody tr th:only-of-type {\n",
              "        vertical-align: middle;\n",
              "    }\n",
              "\n",
              "    .dataframe tbody tr th {\n",
              "        vertical-align: top;\n",
              "    }\n",
              "\n",
              "    .dataframe thead th {\n",
              "        text-align: right;\n",
              "    }\n",
              "</style>\n",
              "<table border=\"1\" class=\"dataframe\">\n",
              "  <thead>\n",
              "    <tr style=\"text-align: right;\">\n",
              "      <th></th>\n",
              "      <th>Rented Bike Count</th>\n",
              "      <th>Hour</th>\n",
              "      <th>Temperature(°C)</th>\n",
              "      <th>Humidity(%)</th>\n",
              "      <th>Wind speed (m/s)</th>\n",
              "      <th>Visibility (10m)</th>\n",
              "      <th>Dew point temperature(°C)</th>\n",
              "      <th>Solar Radiation (MJ/m2)</th>\n",
              "      <th>Rainfall(mm)</th>\n",
              "      <th>Snowfall (cm)</th>\n",
              "    </tr>\n",
              "  </thead>\n",
              "  <tbody>\n",
              "    <tr>\n",
              "      <th>count</th>\n",
              "      <td>8760.000000</td>\n",
              "      <td>8760.000000</td>\n",
              "      <td>8760.000000</td>\n",
              "      <td>8760.000000</td>\n",
              "      <td>8760.000000</td>\n",
              "      <td>8760.000000</td>\n",
              "      <td>8760.000000</td>\n",
              "      <td>8760.000000</td>\n",
              "      <td>8760.000000</td>\n",
              "      <td>8760.000000</td>\n",
              "    </tr>\n",
              "    <tr>\n",
              "      <th>mean</th>\n",
              "      <td>704.602055</td>\n",
              "      <td>11.500000</td>\n",
              "      <td>12.882922</td>\n",
              "      <td>58.226256</td>\n",
              "      <td>1.724909</td>\n",
              "      <td>1436.825799</td>\n",
              "      <td>4.073813</td>\n",
              "      <td>0.569111</td>\n",
              "      <td>0.148687</td>\n",
              "      <td>0.075068</td>\n",
              "    </tr>\n",
              "    <tr>\n",
              "      <th>std</th>\n",
              "      <td>644.997468</td>\n",
              "      <td>6.922582</td>\n",
              "      <td>11.944825</td>\n",
              "      <td>20.362413</td>\n",
              "      <td>1.036300</td>\n",
              "      <td>608.298712</td>\n",
              "      <td>13.060369</td>\n",
              "      <td>0.868746</td>\n",
              "      <td>1.128193</td>\n",
              "      <td>0.436746</td>\n",
              "    </tr>\n",
              "    <tr>\n",
              "      <th>min</th>\n",
              "      <td>0.000000</td>\n",
              "      <td>0.000000</td>\n",
              "      <td>-17.800000</td>\n",
              "      <td>0.000000</td>\n",
              "      <td>0.000000</td>\n",
              "      <td>27.000000</td>\n",
              "      <td>-30.600000</td>\n",
              "      <td>0.000000</td>\n",
              "      <td>0.000000</td>\n",
              "      <td>0.000000</td>\n",
              "    </tr>\n",
              "    <tr>\n",
              "      <th>25%</th>\n",
              "      <td>191.000000</td>\n",
              "      <td>5.750000</td>\n",
              "      <td>3.500000</td>\n",
              "      <td>42.000000</td>\n",
              "      <td>0.900000</td>\n",
              "      <td>940.000000</td>\n",
              "      <td>-4.700000</td>\n",
              "      <td>0.000000</td>\n",
              "      <td>0.000000</td>\n",
              "      <td>0.000000</td>\n",
              "    </tr>\n",
              "    <tr>\n",
              "      <th>50%</th>\n",
              "      <td>504.500000</td>\n",
              "      <td>11.500000</td>\n",
              "      <td>13.700000</td>\n",
              "      <td>57.000000</td>\n",
              "      <td>1.500000</td>\n",
              "      <td>1698.000000</td>\n",
              "      <td>5.100000</td>\n",
              "      <td>0.010000</td>\n",
              "      <td>0.000000</td>\n",
              "      <td>0.000000</td>\n",
              "    </tr>\n",
              "    <tr>\n",
              "      <th>75%</th>\n",
              "      <td>1065.250000</td>\n",
              "      <td>17.250000</td>\n",
              "      <td>22.500000</td>\n",
              "      <td>74.000000</td>\n",
              "      <td>2.300000</td>\n",
              "      <td>2000.000000</td>\n",
              "      <td>14.800000</td>\n",
              "      <td>0.930000</td>\n",
              "      <td>0.000000</td>\n",
              "      <td>0.000000</td>\n",
              "    </tr>\n",
              "    <tr>\n",
              "      <th>max</th>\n",
              "      <td>3556.000000</td>\n",
              "      <td>23.000000</td>\n",
              "      <td>39.400000</td>\n",
              "      <td>98.000000</td>\n",
              "      <td>7.400000</td>\n",
              "      <td>2000.000000</td>\n",
              "      <td>27.200000</td>\n",
              "      <td>3.520000</td>\n",
              "      <td>35.000000</td>\n",
              "      <td>8.800000</td>\n",
              "    </tr>\n",
              "  </tbody>\n",
              "</table>\n",
              "</div>\n",
              "      <button class=\"colab-df-convert\" onclick=\"convertToInteractive('df-6d89a3e9-ea56-44a7-a812-a43eda90eada')\"\n",
              "              title=\"Convert this dataframe to an interactive table.\"\n",
              "              style=\"display:none;\">\n",
              "        \n",
              "  <svg xmlns=\"http://www.w3.org/2000/svg\" height=\"24px\"viewBox=\"0 0 24 24\"\n",
              "       width=\"24px\">\n",
              "    <path d=\"M0 0h24v24H0V0z\" fill=\"none\"/>\n",
              "    <path d=\"M18.56 5.44l.94 2.06.94-2.06 2.06-.94-2.06-.94-.94-2.06-.94 2.06-2.06.94zm-11 1L8.5 8.5l.94-2.06 2.06-.94-2.06-.94L8.5 2.5l-.94 2.06-2.06.94zm10 10l.94 2.06.94-2.06 2.06-.94-2.06-.94-.94-2.06-.94 2.06-2.06.94z\"/><path d=\"M17.41 7.96l-1.37-1.37c-.4-.4-.92-.59-1.43-.59-.52 0-1.04.2-1.43.59L10.3 9.45l-7.72 7.72c-.78.78-.78 2.05 0 2.83L4 21.41c.39.39.9.59 1.41.59.51 0 1.02-.2 1.41-.59l7.78-7.78 2.81-2.81c.8-.78.8-2.07 0-2.86zM5.41 20L4 18.59l7.72-7.72 1.47 1.35L5.41 20z\"/>\n",
              "  </svg>\n",
              "      </button>\n",
              "      \n",
              "  <style>\n",
              "    .colab-df-container {\n",
              "      display:flex;\n",
              "      flex-wrap:wrap;\n",
              "      gap: 12px;\n",
              "    }\n",
              "\n",
              "    .colab-df-convert {\n",
              "      background-color: #E8F0FE;\n",
              "      border: none;\n",
              "      border-radius: 50%;\n",
              "      cursor: pointer;\n",
              "      display: none;\n",
              "      fill: #1967D2;\n",
              "      height: 32px;\n",
              "      padding: 0 0 0 0;\n",
              "      width: 32px;\n",
              "    }\n",
              "\n",
              "    .colab-df-convert:hover {\n",
              "      background-color: #E2EBFA;\n",
              "      box-shadow: 0px 1px 2px rgba(60, 64, 67, 0.3), 0px 1px 3px 1px rgba(60, 64, 67, 0.15);\n",
              "      fill: #174EA6;\n",
              "    }\n",
              "\n",
              "    [theme=dark] .colab-df-convert {\n",
              "      background-color: #3B4455;\n",
              "      fill: #D2E3FC;\n",
              "    }\n",
              "\n",
              "    [theme=dark] .colab-df-convert:hover {\n",
              "      background-color: #434B5C;\n",
              "      box-shadow: 0px 1px 3px 1px rgba(0, 0, 0, 0.15);\n",
              "      filter: drop-shadow(0px 1px 2px rgba(0, 0, 0, 0.3));\n",
              "      fill: #FFFFFF;\n",
              "    }\n",
              "  </style>\n",
              "\n",
              "      <script>\n",
              "        const buttonEl =\n",
              "          document.querySelector('#df-6d89a3e9-ea56-44a7-a812-a43eda90eada button.colab-df-convert');\n",
              "        buttonEl.style.display =\n",
              "          google.colab.kernel.accessAllowed ? 'block' : 'none';\n",
              "\n",
              "        async function convertToInteractive(key) {\n",
              "          const element = document.querySelector('#df-6d89a3e9-ea56-44a7-a812-a43eda90eada');\n",
              "          const dataTable =\n",
              "            await google.colab.kernel.invokeFunction('convertToInteractive',\n",
              "                                                     [key], {});\n",
              "          if (!dataTable) return;\n",
              "\n",
              "          const docLinkHtml = 'Like what you see? Visit the ' +\n",
              "            '<a target=\"_blank\" href=https://colab.research.google.com/notebooks/data_table.ipynb>data table notebook</a>'\n",
              "            + ' to learn more about interactive tables.';\n",
              "          element.innerHTML = '';\n",
              "          dataTable['output_type'] = 'display_data';\n",
              "          await google.colab.output.renderOutput(dataTable, element);\n",
              "          const docLink = document.createElement('div');\n",
              "          docLink.innerHTML = docLinkHtml;\n",
              "          element.appendChild(docLink);\n",
              "        }\n",
              "      </script>\n",
              "    </div>\n",
              "  </div>\n",
              "  "
            ]
          },
          "metadata": {},
          "execution_count": 14
        }
      ]
    },
    {
      "cell_type": "markdown",
      "source": [
        "**We can notice Solar Radiation , Rainfall and Snowfall are highly positively skewed.**"
      ],
      "metadata": {
        "id": "FbSfom0M86xO"
      }
    },
    {
      "cell_type": "markdown",
      "source": [
        "### Variables Description "
      ],
      "metadata": {
        "id": "iPpekjKJ8-0Y"
      }
    },
    {
      "cell_type": "markdown",
      "source": [
        "![axer.png](data:image/png;base64,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)"
      ],
      "metadata": {
        "id": "9CdQC0P09GaP"
      }
    },
    {
      "cell_type": "markdown",
      "source": [
        "### Check Unique Values for each variable."
      ],
      "metadata": {
        "id": "o03rbKbU9Qmt"
      }
    },
    {
      "cell_type": "code",
      "source": [
        "# Check Unique Values for each variable.\n",
        "# Method-1\n",
        "df2=pd.unique(df[['Date', 'Rented Bike Count', 'Hour', 'Temperature(°C)', 'Humidity(%)',\n",
        "       'Wind speed (m/s)', 'Visibility (10m)', 'Dew point temperature(°C)',\n",
        "       'Solar Radiation (MJ/m2)', 'Rainfall(mm)', 'Snowfall (cm)', 'Seasons',\n",
        "       'Holiday', 'Functioning Day']].values.ravel('K'))\n",
        "print(df2)"
      ],
      "metadata": {
        "colab": {
          "base_uri": "https://localhost:8080/"
        },
        "id": "IgxdlQDM84iO",
        "outputId": "f0c913ed-8212-41dd-ea4d-cf1edea2a321"
      },
      "execution_count": 16,
      "outputs": [
        {
          "output_type": "stream",
          "name": "stdout",
          "text": [
            "['01/12/2017' '02/12/2017' '03/12/2017' ... 'Holiday' 'Yes' 'No']\n"
          ]
        }
      ]
    },
    {
      "cell_type": "code",
      "source": [
        "# Method-2\n",
        "df.nunique()"
      ],
      "metadata": {
        "colab": {
          "base_uri": "https://localhost:8080/"
        },
        "id": "EbO6VYRc9Syz",
        "outputId": "55a34721-2664-4c80-f7f9-4442f97cd97d"
      },
      "execution_count": 17,
      "outputs": [
        {
          "output_type": "execute_result",
          "data": {
            "text/plain": [
              "Date                          365\n",
              "Rented Bike Count            2166\n",
              "Hour                           24\n",
              "Temperature(°C)               546\n",
              "Humidity(%)                    90\n",
              "Wind speed (m/s)               65\n",
              "Visibility (10m)             1789\n",
              "Dew point temperature(°C)     556\n",
              "Solar Radiation (MJ/m2)       345\n",
              "Rainfall(mm)                   61\n",
              "Snowfall (cm)                  51\n",
              "Seasons                         4\n",
              "Holiday                         2\n",
              "Functioning Day                 2\n",
              "dtype: int64"
            ]
          },
          "metadata": {},
          "execution_count": 17
        }
      ]
    },
    {
      "cell_type": "code",
      "source": [],
      "metadata": {
        "id": "nXn8BrTW9T5T"
      },
      "execution_count": null,
      "outputs": []
    }
  ]
}